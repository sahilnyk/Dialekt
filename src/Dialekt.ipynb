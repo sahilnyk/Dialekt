{
  "cells": [
    {
      "cell_type": "code",
      "execution_count": 11,
      "metadata": {
        "colab": {
          "base_uri": "https://localhost:8080/"
        },
        "id": "aLie7s3vozEO",
        "outputId": "4341f355-e388-436a-bd3f-977126b9b89c"
      },
      "outputs": [
        {
          "output_type": "stream",
          "name": "stdout",
          "text": [
            "W: Skipping acquire of configured file 'main/source/Sources' as repository 'https://r2u.stat.illinois.edu/ubuntu jammy InRelease' does not seem to provide it (sources.list entry misspelt?)\n"
          ]
        }
      ],
      "source": [
        "# Install required Python packages\n",
        "!pip install --quiet flask pyngrok pytesseract googletrans==4.0.0-rc1 opencv-python-headless\n",
        "\n",
        "# Install language models for French and Arabic (may need root permission workaround)\n",
        "!sudo apt-get update > /dev/null\n",
        "!sudo apt-get install -y tesseract-ocr-fra tesseract-ocr-ara > /dev/null"
      ]
    },
    {
      "cell_type": "code",
      "source": [
        "from flask import Flask, request, jsonify\n",
        "from PIL import Image\n",
        "import pytesseract\n",
        "import numpy as np\n",
        "import cv2\n",
        "from googletrans import Translator\n",
        "import io\n",
        "from pyngrok import ngrok, conf\n",
        "\n",
        "conf.get_default().auth_token = \"2jsd7gMQ3m9uuda9evKjJPGvQ3l_3yWj2KrEXvcJWN1JT5bHA\"\n",
        "app = Flask(__name__)\n",
        "\n",
        "@app.route(\"/process\", methods=[\"POST\"])\n",
        "def process_image():\n",
        "    if \"image\" not in request.files:\n",
        "        return jsonify({\"error\": \"No image uploaded\"}), 400\n",
        "\n",
        "    file = request.files[\"image\"]\n",
        "    image = Image.open(io.BytesIO(file.read())).convert(\"RGB\")\n",
        "    image_np = np.array(image)\n",
        "    image_cv = cv2.cvtColor(image_np, cv2.COLOR_RGB2BGR)\n",
        "\n",
        "\n",
        "    langs = ['fra', 'eng', 'ara']\n",
        "    extracted_text = \"\"\n",
        "    used_lang = \"\"\n",
        "    for lang in langs:\n",
        "        try:\n",
        "            text = pytesseract.image_to_string(image_cv, lang=lang).strip()\n",
        "            if text:\n",
        "                extracted_text = text\n",
        "                used_lang = lang\n",
        "                break\n",
        "        except:\n",
        "            continue\n",
        "\n",
        "    if not extracted_text:\n",
        "        return jsonify({\"error\": \"Text could not be extracted\"}), 400\n",
        "\n",
        "    # Translate\n",
        "    translator = Translator()\n",
        "    translations = {}\n",
        "    targets = {\"English\": \"en\", \"French\": \"fr\", \"Arabic\": \"ar\"}\n",
        "\n",
        "    for name, code in targets.items():\n",
        "        try:\n",
        "            translations[name] = translator.translate(extracted_text, dest=code).text\n",
        "        except:\n",
        "            translations[name] = \"Translation failed.\"\n",
        "\n",
        "    # Simulate Tunisian dialect (approximation from Arabic)\n",
        "    tunisian = \"\"\n",
        "    try:\n",
        "        arabic = translator.translate(extracted_text, dest=\"ar\").text\n",
        "        tunisian = arabic  # Optionally apply rule-based or slang here\n",
        "    except:\n",
        "        tunisian = \"Dialect translation failed.\"\n",
        "\n",
        "    return jsonify({\n",
        "        \"extracted\": extracted_text,\n",
        "        \"used_lang\": used_lang,\n",
        "        \"translations\": translations,\n",
        "        \"tunisian\": tunisian\n",
        "    })\n",
        "\n",
        "public_url = ngrok.connect(5000)\n",
        "print(\"Public URL (copy this to app.py):\", public_url)\n",
        "app.run(port=5000)"
      ],
      "metadata": {
        "colab": {
          "base_uri": "https://localhost:8080/"
        },
        "id": "SZdSNgrB3pu5",
        "outputId": "1c5794b3-2ac2-41aa-efa0-86363b37a900"
      },
      "execution_count": null,
      "outputs": [
        {
          "output_type": "stream",
          "name": "stdout",
          "text": [
            "Public URL (copy this to app.py): NgrokTunnel: \"https://5a66-35-192-211-198.ngrok-free.app\" -> \"http://localhost:5000\"\n",
            " * Serving Flask app '__main__'\n",
            " * Debug mode: off\n"
          ]
        },
        {
          "output_type": "stream",
          "name": "stderr",
          "text": [
            "INFO:werkzeug:\u001b[31m\u001b[1mWARNING: This is a development server. Do not use it in a production deployment. Use a production WSGI server instead.\u001b[0m\n",
            " * Running on http://127.0.0.1:5000\n",
            "INFO:werkzeug:\u001b[33mPress CTRL+C to quit\u001b[0m\n",
            "INFO:werkzeug:127.0.0.1 - - [11/Jun/2025 16:48:46] \"POST /process HTTP/1.1\" 200 -\n",
            "INFO:werkzeug:127.0.0.1 - - [11/Jun/2025 17:14:24] \"POST /process HTTP/1.1\" 200 -\n",
            "INFO:werkzeug:127.0.0.1 - - [11/Jun/2025 17:27:01] \"POST /process HTTP/1.1\" 200 -\n",
            "INFO:werkzeug:127.0.0.1 - - [11/Jun/2025 17:48:04] \"POST /process HTTP/1.1\" 200 -\n"
          ]
        }
      ]
    }
  ],
  "metadata": {
    "colab": {
      "provenance": []
    },
    "kernelspec": {
      "display_name": "Python 3",
      "name": "python3"
    },
    "language_info": {
      "name": "python"
    }
  },
  "nbformat": 4,
  "nbformat_minor": 0
}